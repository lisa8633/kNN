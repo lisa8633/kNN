{
 "cells": [
  {
   "cell_type": "markdown",
   "metadata": {},
   "source": [
    "\n",
    "\n",
    "# KNN \n",
    "\n",
    "We are using a different version of the Melbourne housing data set, to predict the housing type as one of three possible categories:\n",
    "\n",
    "  - 'h' house\n",
    "  - 'u' duplex\n",
    "  - 't' townhouse\n"
   ]
  },
  {
   "cell_type": "code",
   "execution_count": 1,
   "metadata": {},
   "outputs": [],
   "source": [
    "\n",
    "import pandas as pd\n",
    "import numpy as np\n",
    "import matplotlib.pyplot as plt\n",
    "import time\n",
    "import calendar\n",
    "import datetime\n",
    "%matplotlib inline\n",
    "\n",
    "# Starting off loading a training set\n",
    "df_melb = pd.read_csv('melb_data_train.csv')"
   ]
  },
  {
   "cell_type": "markdown",
   "metadata": {},
   "source": [
    "## Fix a column of data to be numeric\n"
   ]
  },
  {
   "cell_type": "code",
   "execution_count": 2,
   "metadata": {},
   "outputs": [
    {
     "data": {
      "text/plain": [
       "0          7/5/16\n",
       "1      28/08/2016\n",
       "2          8/7/17\n",
       "3      24/06/2017\n",
       "4      19/11/2016\n",
       "          ...    \n",
       "495    29/07/2017\n",
       "496    16/04/2016\n",
       "497        8/4/17\n",
       "498        7/5/16\n",
       "499      10/12/16\n",
       "Name: Date, Length: 500, dtype: object"
      ]
     },
     "execution_count": 2,
     "metadata": {},
     "output_type": "execute_result"
    }
   ],
   "source": [
    "df_melb['Date']"
   ]
  },
  {
   "cell_type": "code",
   "execution_count": 3,
   "metadata": {},
   "outputs": [],
   "source": [
    "# normalize date accepts the date string as shown in the df_melb 'Date' column,\n",
    "# and returns a data in a standarized format\n",
    "def standardize_date(d):\n",
    "    # Your code here\n",
    "    try: \n",
    "        d = datetime.datetime.strptime(d, \"%d/%m/%y\").strftime(\"%Y %m %d\")\n",
    "    except:\n",
    "        pass\n",
    "    try: \n",
    "        d = datetime.datetime.strptime(d, \"%d/%m/%Y\").strftime(\"%Y %m %d\")\n",
    "    except: \n",
    "       pass\n",
    "    return d\n",
    "\n",
    "def get_time(d):\n",
    "    d = time.strptime(d, \"%Y %m %d\")\n",
    "    return calendar.timegm(d)\n",
    "\n",
    "#standardize_date(\"21/12/2008\")"
   ]
  },
  {
   "cell_type": "code",
   "execution_count": 4,
   "metadata": {},
   "outputs": [
    {
     "name": "stdout",
     "output_type": "stream",
     "text": [
      "The min unixtime is 1454544000 and the max unixtime is 1506124800\n"
     ]
    }
   ],
   "source": [
    "df_melb['Date'] = df_melb['Date'].apply( lambda x : standardize_date(x)) \n",
    "df_melb['unixtime'] = df_melb['Date'].apply( lambda x: get_time(x))\n",
    "df_melb = df_melb.drop(columns=\"Date\")\n",
    "\n",
    "print(\"The min unixtime is {:d} and the max unixtime is {:d}\".format(df_melb['unixtime'].min(),df_melb['unixtime'].max()))"
   ]
  },
  {
   "cell_type": "markdown",
   "metadata": {},
   "source": [
    "## Use Imputation to fill in missing values\n"
   ]
  },
  {
   "cell_type": "code",
   "execution_count": 5,
   "metadata": {},
   "outputs": [],
   "source": [
    "target_col = 'Type'"
   ]
  },
  {
   "cell_type": "code",
   "execution_count": 6,
   "metadata": {},
   "outputs": [],
   "source": [
    "dict_imputation = dict()\n",
    "for col in df_melb.columns:\n",
    "    # your code here\n",
    "    if col != target_col:\n",
    "        mean = df_melb[col].mean()\n",
    "        dict_imputation[col] = mean\n",
    "        df_melb[col].fillna(mean, inplace = True)"
   ]
  },
  {
   "cell_type": "code",
   "execution_count": 7,
   "metadata": {},
   "outputs": [
    {
     "data": {
      "text/plain": [
       "{'Rooms': 2.71,\n",
       " 'Price': 932558.7,\n",
       " 'Distance': 10.524599999999985,\n",
       " 'Postcode': 3113.122,\n",
       " 'Bathroom': 1.44,\n",
       " 'Car': 1.503006012024048,\n",
       " 'Landsize': 638.91,\n",
       " 'BuildingArea': 121.7832,\n",
       " 'YearBuilt': 1970.9417475728155,\n",
       " 'unixtime': 1485178502.4}"
      ]
     },
     "execution_count": 7,
     "metadata": {},
     "output_type": "execute_result"
    }
   ],
   "source": [
    "dict_imputation"
   ]
  },
  {
   "cell_type": "code",
   "execution_count": 8,
   "metadata": {},
   "outputs": [
    {
     "data": {
      "text/html": [
       "<div>\n",
       "<style scoped>\n",
       "    .dataframe tbody tr th:only-of-type {\n",
       "        vertical-align: middle;\n",
       "    }\n",
       "\n",
       "    .dataframe tbody tr th {\n",
       "        vertical-align: top;\n",
       "    }\n",
       "\n",
       "    .dataframe thead th {\n",
       "        text-align: right;\n",
       "    }\n",
       "</style>\n",
       "<table border=\"1\" class=\"dataframe\">\n",
       "  <thead>\n",
       "    <tr style=\"text-align: right;\">\n",
       "      <th></th>\n",
       "      <th>Rooms</th>\n",
       "      <th>Type</th>\n",
       "      <th>Price</th>\n",
       "      <th>Distance</th>\n",
       "      <th>Postcode</th>\n",
       "      <th>Bathroom</th>\n",
       "      <th>Car</th>\n",
       "      <th>Landsize</th>\n",
       "      <th>BuildingArea</th>\n",
       "      <th>YearBuilt</th>\n",
       "      <th>unixtime</th>\n",
       "    </tr>\n",
       "  </thead>\n",
       "  <tbody>\n",
       "    <tr>\n",
       "      <th>0</th>\n",
       "      <td>2</td>\n",
       "      <td>h</td>\n",
       "      <td>399000</td>\n",
       "      <td>8.7</td>\n",
       "      <td>3032</td>\n",
       "      <td>1</td>\n",
       "      <td>1.0</td>\n",
       "      <td>904</td>\n",
       "      <td>53.0000</td>\n",
       "      <td>1985.000000</td>\n",
       "      <td>1462579200</td>\n",
       "    </tr>\n",
       "    <tr>\n",
       "      <th>1</th>\n",
       "      <td>3</td>\n",
       "      <td>h</td>\n",
       "      <td>1241000</td>\n",
       "      <td>13.9</td>\n",
       "      <td>3165</td>\n",
       "      <td>1</td>\n",
       "      <td>1.0</td>\n",
       "      <td>643</td>\n",
       "      <td>121.7832</td>\n",
       "      <td>1970.941748</td>\n",
       "      <td>1472342400</td>\n",
       "    </tr>\n",
       "    <tr>\n",
       "      <th>2</th>\n",
       "      <td>2</td>\n",
       "      <td>u</td>\n",
       "      <td>550000</td>\n",
       "      <td>3.0</td>\n",
       "      <td>3067</td>\n",
       "      <td>1</td>\n",
       "      <td>1.0</td>\n",
       "      <td>1521</td>\n",
       "      <td>121.7832</td>\n",
       "      <td>1970.941748</td>\n",
       "      <td>1499472000</td>\n",
       "    </tr>\n",
       "    <tr>\n",
       "      <th>3</th>\n",
       "      <td>3</td>\n",
       "      <td>u</td>\n",
       "      <td>691000</td>\n",
       "      <td>8.4</td>\n",
       "      <td>3072</td>\n",
       "      <td>1</td>\n",
       "      <td>1.0</td>\n",
       "      <td>170</td>\n",
       "      <td>121.7832</td>\n",
       "      <td>1970.941748</td>\n",
       "      <td>1498262400</td>\n",
       "    </tr>\n",
       "    <tr>\n",
       "      <th>4</th>\n",
       "      <td>2</td>\n",
       "      <td>u</td>\n",
       "      <td>657500</td>\n",
       "      <td>4.6</td>\n",
       "      <td>3122</td>\n",
       "      <td>1</td>\n",
       "      <td>1.0</td>\n",
       "      <td>728</td>\n",
       "      <td>73.0000</td>\n",
       "      <td>1965.000000</td>\n",
       "      <td>1479513600</td>\n",
       "    </tr>\n",
       "  </tbody>\n",
       "</table>\n",
       "</div>"
      ],
      "text/plain": [
       "   Rooms Type    Price  Distance  Postcode  Bathroom  Car  Landsize  \\\n",
       "0      2    h   399000       8.7      3032         1  1.0       904   \n",
       "1      3    h  1241000      13.9      3165         1  1.0       643   \n",
       "2      2    u   550000       3.0      3067         1  1.0      1521   \n",
       "3      3    u   691000       8.4      3072         1  1.0       170   \n",
       "4      2    u   657500       4.6      3122         1  1.0       728   \n",
       "\n",
       "   BuildingArea    YearBuilt    unixtime  \n",
       "0       53.0000  1985.000000  1462579200  \n",
       "1      121.7832  1970.941748  1472342400  \n",
       "2      121.7832  1970.941748  1499472000  \n",
       "3      121.7832  1970.941748  1498262400  \n",
       "4       73.0000  1965.000000  1479513600  "
      ]
     },
     "execution_count": 8,
     "metadata": {},
     "output_type": "execute_result"
    }
   ],
   "source": [
    "df_melb.head()"
   ]
  },
  {
   "cell_type": "markdown",
   "metadata": {},
   "source": [
    "## Normalize all the attributes\n"
   ]
  },
  {
   "cell_type": "code",
   "execution_count": 9,
   "metadata": {},
   "outputs": [],
   "source": [
    "dict_normalize = dict()\n",
    "for col in df_melb.columns:\n",
    "    # your code here\n",
    "    if col != target_col:\n",
    "        min = df_melb[col].min()\n",
    "        max = df_melb[col].max()\n",
    "        dict_normalize[col] = (min,max)\n",
    "        df_melb[col] = (df_melb[col] - min)/(max - min)"
   ]
  },
  {
   "cell_type": "code",
   "execution_count": 10,
   "metadata": {},
   "outputs": [
    {
     "data": {
      "text/plain": [
       "{'Rooms': (1, 6),\n",
       " 'Price': (291000, 5020000),\n",
       " 'Distance': (0.7, 47.3),\n",
       " 'Postcode': (3002, 3810),\n",
       " 'Bathroom': (0, 4),\n",
       " 'Car': (0.0, 4.0),\n",
       " 'Landsize': (0, 41400),\n",
       " 'BuildingArea': (0.0, 475.0),\n",
       " 'YearBuilt': (1890.0, 2015.0),\n",
       " 'unixtime': (1454544000, 1506124800)}"
      ]
     },
     "execution_count": 10,
     "metadata": {},
     "output_type": "execute_result"
    }
   ],
   "source": [
    "dict_normalize"
   ]
  },
  {
   "cell_type": "code",
   "execution_count": 11,
   "metadata": {},
   "outputs": [
    {
     "data": {
      "text/html": [
       "<div>\n",
       "<style scoped>\n",
       "    .dataframe tbody tr th:only-of-type {\n",
       "        vertical-align: middle;\n",
       "    }\n",
       "\n",
       "    .dataframe tbody tr th {\n",
       "        vertical-align: top;\n",
       "    }\n",
       "\n",
       "    .dataframe thead th {\n",
       "        text-align: right;\n",
       "    }\n",
       "</style>\n",
       "<table border=\"1\" class=\"dataframe\">\n",
       "  <thead>\n",
       "    <tr style=\"text-align: right;\">\n",
       "      <th></th>\n",
       "      <th>Rooms</th>\n",
       "      <th>Type</th>\n",
       "      <th>Price</th>\n",
       "      <th>Distance</th>\n",
       "      <th>Postcode</th>\n",
       "      <th>Bathroom</th>\n",
       "      <th>Car</th>\n",
       "      <th>Landsize</th>\n",
       "      <th>BuildingArea</th>\n",
       "      <th>YearBuilt</th>\n",
       "      <th>unixtime</th>\n",
       "    </tr>\n",
       "  </thead>\n",
       "  <tbody>\n",
       "    <tr>\n",
       "      <th>0</th>\n",
       "      <td>0.2</td>\n",
       "      <td>h</td>\n",
       "      <td>0.022838</td>\n",
       "      <td>0.171674</td>\n",
       "      <td>0.037129</td>\n",
       "      <td>0.25</td>\n",
       "      <td>0.25</td>\n",
       "      <td>0.021836</td>\n",
       "      <td>0.111579</td>\n",
       "      <td>0.760000</td>\n",
       "      <td>0.155779</td>\n",
       "    </tr>\n",
       "    <tr>\n",
       "      <th>1</th>\n",
       "      <td>0.4</td>\n",
       "      <td>h</td>\n",
       "      <td>0.200888</td>\n",
       "      <td>0.283262</td>\n",
       "      <td>0.201733</td>\n",
       "      <td>0.25</td>\n",
       "      <td>0.25</td>\n",
       "      <td>0.015531</td>\n",
       "      <td>0.256386</td>\n",
       "      <td>0.647534</td>\n",
       "      <td>0.345059</td>\n",
       "    </tr>\n",
       "    <tr>\n",
       "      <th>2</th>\n",
       "      <td>0.2</td>\n",
       "      <td>u</td>\n",
       "      <td>0.054768</td>\n",
       "      <td>0.049356</td>\n",
       "      <td>0.080446</td>\n",
       "      <td>0.25</td>\n",
       "      <td>0.25</td>\n",
       "      <td>0.036739</td>\n",
       "      <td>0.256386</td>\n",
       "      <td>0.647534</td>\n",
       "      <td>0.871022</td>\n",
       "    </tr>\n",
       "    <tr>\n",
       "      <th>3</th>\n",
       "      <td>0.4</td>\n",
       "      <td>u</td>\n",
       "      <td>0.084584</td>\n",
       "      <td>0.165236</td>\n",
       "      <td>0.086634</td>\n",
       "      <td>0.25</td>\n",
       "      <td>0.25</td>\n",
       "      <td>0.004106</td>\n",
       "      <td>0.256386</td>\n",
       "      <td>0.647534</td>\n",
       "      <td>0.847571</td>\n",
       "    </tr>\n",
       "    <tr>\n",
       "      <th>4</th>\n",
       "      <td>0.2</td>\n",
       "      <td>u</td>\n",
       "      <td>0.077501</td>\n",
       "      <td>0.083691</td>\n",
       "      <td>0.148515</td>\n",
       "      <td>0.25</td>\n",
       "      <td>0.25</td>\n",
       "      <td>0.017585</td>\n",
       "      <td>0.153684</td>\n",
       "      <td>0.600000</td>\n",
       "      <td>0.484087</td>\n",
       "    </tr>\n",
       "  </tbody>\n",
       "</table>\n",
       "</div>"
      ],
      "text/plain": [
       "   Rooms Type     Price  Distance  Postcode  Bathroom   Car  Landsize  \\\n",
       "0    0.2    h  0.022838  0.171674  0.037129      0.25  0.25  0.021836   \n",
       "1    0.4    h  0.200888  0.283262  0.201733      0.25  0.25  0.015531   \n",
       "2    0.2    u  0.054768  0.049356  0.080446      0.25  0.25  0.036739   \n",
       "3    0.4    u  0.084584  0.165236  0.086634      0.25  0.25  0.004106   \n",
       "4    0.2    u  0.077501  0.083691  0.148515      0.25  0.25  0.017585   \n",
       "\n",
       "   BuildingArea  YearBuilt  unixtime  \n",
       "0      0.111579   0.760000  0.155779  \n",
       "1      0.256386   0.647534  0.345059  \n",
       "2      0.256386   0.647534  0.871022  \n",
       "3      0.256386   0.647534  0.847571  \n",
       "4      0.153684   0.600000  0.484087  "
      ]
     },
     "execution_count": 11,
     "metadata": {},
     "output_type": "execute_result"
    }
   ],
   "source": [
    "df_melb.head()"
   ]
  },
  {
   "cell_type": "markdown",
   "metadata": {},
   "source": [
    "## prep for classification"
   ]
  },
  {
   "cell_type": "code",
   "execution_count": 12,
   "metadata": {},
   "outputs": [],
   "source": [
    "df_test = pd.read_csv(\"melb_data_test.csv\")"
   ]
  },
  {
   "cell_type": "code",
   "execution_count": 13,
   "metadata": {},
   "outputs": [
    {
     "name": "stdout",
     "output_type": "stream",
     "text": [
      "The min unixtime is 1454544000 and the max unixtime is 1506124800\n"
     ]
    }
   ],
   "source": [
    "# Your code here to fix date\n",
    "df_test['Date'] = df_test['Date'].apply( lambda x : standardize_date(x)) \n",
    "df_test['unixtime'] = df_test['Date'].apply( lambda x: get_time(x))\n",
    "df_test = df_test.drop(columns=\"Date\")\n",
    "\n",
    "print(\"The min unixtime is {:d} and the max unixtime is {:d}\".format(df_test['unixtime'].min(),df_test['unixtime'].max()))"
   ]
  },
  {
   "cell_type": "code",
   "execution_count": 14,
   "metadata": {},
   "outputs": [
    {
     "data": {
      "text/html": [
       "<div>\n",
       "<style scoped>\n",
       "    .dataframe tbody tr th:only-of-type {\n",
       "        vertical-align: middle;\n",
       "    }\n",
       "\n",
       "    .dataframe tbody tr th {\n",
       "        vertical-align: top;\n",
       "    }\n",
       "\n",
       "    .dataframe thead th {\n",
       "        text-align: right;\n",
       "    }\n",
       "</style>\n",
       "<table border=\"1\" class=\"dataframe\">\n",
       "  <thead>\n",
       "    <tr style=\"text-align: right;\">\n",
       "      <th></th>\n",
       "      <th>Rooms</th>\n",
       "      <th>Type</th>\n",
       "      <th>Price</th>\n",
       "      <th>Distance</th>\n",
       "      <th>Postcode</th>\n",
       "      <th>Bathroom</th>\n",
       "      <th>Car</th>\n",
       "      <th>Landsize</th>\n",
       "      <th>BuildingArea</th>\n",
       "      <th>YearBuilt</th>\n",
       "      <th>unixtime</th>\n",
       "    </tr>\n",
       "  </thead>\n",
       "  <tbody>\n",
       "    <tr>\n",
       "      <th>0</th>\n",
       "      <td>3</td>\n",
       "      <td>h</td>\n",
       "      <td>1116000</td>\n",
       "      <td>17.9</td>\n",
       "      <td>3192</td>\n",
       "      <td>1</td>\n",
       "      <td>2.0</td>\n",
       "      <td>610</td>\n",
       "      <td>121.7832</td>\n",
       "      <td>1970.941748</td>\n",
       "      <td>1498867200</td>\n",
       "    </tr>\n",
       "    <tr>\n",
       "      <th>1</th>\n",
       "      <td>3</td>\n",
       "      <td>h</td>\n",
       "      <td>2030000</td>\n",
       "      <td>11.2</td>\n",
       "      <td>3186</td>\n",
       "      <td>2</td>\n",
       "      <td>2.0</td>\n",
       "      <td>366</td>\n",
       "      <td>121.7832</td>\n",
       "      <td>1970.941748</td>\n",
       "      <td>1472342400</td>\n",
       "    </tr>\n",
       "    <tr>\n",
       "      <th>2</th>\n",
       "      <td>3</td>\n",
       "      <td>h</td>\n",
       "      <td>1480000</td>\n",
       "      <td>10.7</td>\n",
       "      <td>3187</td>\n",
       "      <td>2</td>\n",
       "      <td>2.0</td>\n",
       "      <td>697</td>\n",
       "      <td>143.0000</td>\n",
       "      <td>1925.000000</td>\n",
       "      <td>1478476800</td>\n",
       "    </tr>\n",
       "    <tr>\n",
       "      <th>3</th>\n",
       "      <td>3</td>\n",
       "      <td>u</td>\n",
       "      <td>1203500</td>\n",
       "      <td>12.3</td>\n",
       "      <td>3166</td>\n",
       "      <td>2</td>\n",
       "      <td>2.0</td>\n",
       "      <td>311</td>\n",
       "      <td>127.0000</td>\n",
       "      <td>2000.000000</td>\n",
       "      <td>1495843200</td>\n",
       "    </tr>\n",
       "    <tr>\n",
       "      <th>4</th>\n",
       "      <td>3</td>\n",
       "      <td>h</td>\n",
       "      <td>540000</td>\n",
       "      <td>14.7</td>\n",
       "      <td>3030</td>\n",
       "      <td>2</td>\n",
       "      <td>2.0</td>\n",
       "      <td>353</td>\n",
       "      <td>135.0000</td>\n",
       "      <td>2011.000000</td>\n",
       "      <td>1504396800</td>\n",
       "    </tr>\n",
       "  </tbody>\n",
       "</table>\n",
       "</div>"
      ],
      "text/plain": [
       "   Rooms Type    Price  Distance  Postcode  Bathroom  Car  Landsize  \\\n",
       "0      3    h  1116000      17.9      3192         1  2.0       610   \n",
       "1      3    h  2030000      11.2      3186         2  2.0       366   \n",
       "2      3    h  1480000      10.7      3187         2  2.0       697   \n",
       "3      3    u  1203500      12.3      3166         2  2.0       311   \n",
       "4      3    h   540000      14.7      3030         2  2.0       353   \n",
       "\n",
       "   BuildingArea    YearBuilt    unixtime  \n",
       "0      121.7832  1970.941748  1498867200  \n",
       "1      121.7832  1970.941748  1472342400  \n",
       "2      143.0000  1925.000000  1478476800  \n",
       "3      127.0000  2000.000000  1495843200  \n",
       "4      135.0000  2011.000000  1504396800  "
      ]
     },
     "execution_count": 14,
     "metadata": {},
     "output_type": "execute_result"
    }
   ],
   "source": [
    "# Your code here for imputation - must use dictionary from above!\n",
    "for col in df_test.columns:\n",
    "    if col != target_col:\n",
    "        df_test[col].fillna(dict_imputation[col], inplace = True)\n",
    "\n",
    "df_test.head()        "
   ]
  },
  {
   "cell_type": "code",
   "execution_count": 15,
   "metadata": {},
   "outputs": [
    {
     "data": {
      "text/html": [
       "<div>\n",
       "<style scoped>\n",
       "    .dataframe tbody tr th:only-of-type {\n",
       "        vertical-align: middle;\n",
       "    }\n",
       "\n",
       "    .dataframe tbody tr th {\n",
       "        vertical-align: top;\n",
       "    }\n",
       "\n",
       "    .dataframe thead th {\n",
       "        text-align: right;\n",
       "    }\n",
       "</style>\n",
       "<table border=\"1\" class=\"dataframe\">\n",
       "  <thead>\n",
       "    <tr style=\"text-align: right;\">\n",
       "      <th></th>\n",
       "      <th>Rooms</th>\n",
       "      <th>Type</th>\n",
       "      <th>Price</th>\n",
       "      <th>Distance</th>\n",
       "      <th>Postcode</th>\n",
       "      <th>Bathroom</th>\n",
       "      <th>Car</th>\n",
       "      <th>Landsize</th>\n",
       "      <th>BuildingArea</th>\n",
       "      <th>YearBuilt</th>\n",
       "      <th>unixtime</th>\n",
       "    </tr>\n",
       "  </thead>\n",
       "  <tbody>\n",
       "    <tr>\n",
       "      <th>0</th>\n",
       "      <td>0.4</td>\n",
       "      <td>h</td>\n",
       "      <td>0.174455</td>\n",
       "      <td>0.369099</td>\n",
       "      <td>0.235149</td>\n",
       "      <td>0.25</td>\n",
       "      <td>0.5</td>\n",
       "      <td>0.014734</td>\n",
       "      <td>0.256386</td>\n",
       "      <td>0.647534</td>\n",
       "      <td>0.859296</td>\n",
       "    </tr>\n",
       "    <tr>\n",
       "      <th>1</th>\n",
       "      <td>0.4</td>\n",
       "      <td>h</td>\n",
       "      <td>0.367731</td>\n",
       "      <td>0.225322</td>\n",
       "      <td>0.227723</td>\n",
       "      <td>0.50</td>\n",
       "      <td>0.5</td>\n",
       "      <td>0.008841</td>\n",
       "      <td>0.256386</td>\n",
       "      <td>0.647534</td>\n",
       "      <td>0.345059</td>\n",
       "    </tr>\n",
       "    <tr>\n",
       "      <th>2</th>\n",
       "      <td>0.4</td>\n",
       "      <td>h</td>\n",
       "      <td>0.251427</td>\n",
       "      <td>0.214592</td>\n",
       "      <td>0.228960</td>\n",
       "      <td>0.50</td>\n",
       "      <td>0.5</td>\n",
       "      <td>0.016836</td>\n",
       "      <td>0.301053</td>\n",
       "      <td>0.280000</td>\n",
       "      <td>0.463987</td>\n",
       "    </tr>\n",
       "    <tr>\n",
       "      <th>3</th>\n",
       "      <td>0.4</td>\n",
       "      <td>u</td>\n",
       "      <td>0.192958</td>\n",
       "      <td>0.248927</td>\n",
       "      <td>0.202970</td>\n",
       "      <td>0.50</td>\n",
       "      <td>0.5</td>\n",
       "      <td>0.007512</td>\n",
       "      <td>0.267368</td>\n",
       "      <td>0.880000</td>\n",
       "      <td>0.800670</td>\n",
       "    </tr>\n",
       "    <tr>\n",
       "      <th>4</th>\n",
       "      <td>0.4</td>\n",
       "      <td>h</td>\n",
       "      <td>0.052654</td>\n",
       "      <td>0.300429</td>\n",
       "      <td>0.034653</td>\n",
       "      <td>0.50</td>\n",
       "      <td>0.5</td>\n",
       "      <td>0.008527</td>\n",
       "      <td>0.284211</td>\n",
       "      <td>0.968000</td>\n",
       "      <td>0.966499</td>\n",
       "    </tr>\n",
       "  </tbody>\n",
       "</table>\n",
       "</div>"
      ],
      "text/plain": [
       "   Rooms Type     Price  Distance  Postcode  Bathroom  Car  Landsize  \\\n",
       "0    0.4    h  0.174455  0.369099  0.235149      0.25  0.5  0.014734   \n",
       "1    0.4    h  0.367731  0.225322  0.227723      0.50  0.5  0.008841   \n",
       "2    0.4    h  0.251427  0.214592  0.228960      0.50  0.5  0.016836   \n",
       "3    0.4    u  0.192958  0.248927  0.202970      0.50  0.5  0.007512   \n",
       "4    0.4    h  0.052654  0.300429  0.034653      0.50  0.5  0.008527   \n",
       "\n",
       "   BuildingArea  YearBuilt  unixtime  \n",
       "0      0.256386   0.647534  0.859296  \n",
       "1      0.256386   0.647534  0.345059  \n",
       "2      0.301053   0.280000  0.463987  \n",
       "3      0.267368   0.880000  0.800670  \n",
       "4      0.284211   0.968000  0.966499  "
      ]
     },
     "execution_count": 15,
     "metadata": {},
     "output_type": "execute_result"
    }
   ],
   "source": [
    "# Your code here for scaling - must use dictionary from above!\n",
    "for col in df_test.columns:\n",
    "    if col != target_col:\n",
    "        min = dict_normalize[col][0]\n",
    "        max = dict_normalize[col][1]\n",
    "        df_test[col] = (df_test[col] - min)/(max - min)\n",
    "        \n",
    "df_test.head()"
   ]
  },
  {
   "cell_type": "markdown",
   "metadata": {},
   "source": [
    "## Write the kNN classifier function\n"
   ]
  },
  {
   "cell_type": "code",
   "execution_count": 16,
   "metadata": {},
   "outputs": [
    {
     "name": "stdout",
     "output_type": "stream",
     "text": [
      "h\n"
     ]
    }
   ],
   "source": [
    "import operator\n",
    "def get_neighbors(df_train, df, observation, k, target_col):\n",
    "    distances = []\n",
    "    for features in range(len(df)):\n",
    "        euclidean_distance = np.linalg.norm(observation - df[features])\n",
    "        distances.append((features, euclidean_distance))\n",
    "    distances = sorted(distances, key=lambda tup: tup[-1])\n",
    "    neighbors = []\n",
    "    for i in range(k):\n",
    "        neighbors.append(df_train.iloc[distances[i][0],[1]].loc[target_col])\n",
    "    return neighbors\n",
    "\n",
    "def knn_class(df_train, k, target_col, observation, use_weighted_vote):\n",
    "    i = df_train.columns.get_loc(target_col)\n",
    "    target = df_train[target_col]\n",
    "    df = df_train.copy()\n",
    "    df = df_train.drop(columns = target_col).to_numpy()\n",
    "    observation = observation.drop(target_col).to_numpy()\n",
    "    \n",
    "    if use_weighted_vote == True:\n",
    "        neighbors = get_neighbors(df_train, df, observation, k, target_col)\n",
    "        count = dict((x, neighbors.count(x)) for x in set(neighbors))\n",
    "        #print(count)\n",
    "        #answer = max(count, key=lambda k: count[k])\n",
    "        m = -1\n",
    "        ans = \"\"\n",
    "        for k in count.keys():\n",
    "            if count[k] > m:\n",
    "                m = count[k]\n",
    "                ans = k\n",
    "        return ans\n",
    "        \n",
    "    else:\n",
    "        distances = []\n",
    "        for features in range(len(df)):\n",
    "                euclidean_distance = np.linalg.norm(observation-df_train[features])\n",
    "                distances.append([euclidean_distance, features])\n",
    "        votes = [i[1] for i in sorted(distances)[:k]]\n",
    "        classification = Counter(votes).most_common(1)[0][0]\n",
    "        return classification\n",
    "\n",
    "\n",
    "print(knn_class(df_melb, 3, \"Type\", df_test.iloc[4], use_weighted_vote=True))\n",
    "        \n",
    "    "
   ]
  },
  {
   "cell_type": "markdown",
   "metadata": {},
   "source": [
    "## Compute the accuracy using different k values\n"
   ]
  },
  {
   "cell_type": "code",
   "execution_count": 17,
   "metadata": {},
   "outputs": [
    {
     "name": "stdout",
     "output_type": "stream",
     "text": [
      "0.67\n",
      "0.71\n",
      "0.71\n",
      "0.7\n",
      "0.68\n",
      "0.69\n"
     ]
    }
   ],
   "source": [
    "poss_k = [1,3,13,25,50,100] # possible k's\n",
    "acc_k_majority = list(np.zeros(len(poss_k))) # Accuracy for each value of k using majority voting\n",
    "acc_k_weighted = list(np.zeros(len(poss_k))) # Accuracy for each value of k using weighted voting\n",
    "for k in range(len(poss_k)):\n",
    "    correct = 0\n",
    "    for index, row in df_test.iterrows():\n",
    "        val = (knn_class(df_melb, poss_k[k], target_col, row, use_weighted_vote=True))\n",
    "        if val == row[target_col]:\n",
    "            correct += 1\n",
    "    acc = correct/len(df_test)\n",
    "    print(acc)\n",
    "    acc_k_majority[k] = acc\n",
    "#     correct = 0\n",
    "#     for index, row in df_test.iterrows():\n",
    "#         val = (knn_class(df_melb, poss_k[k], target_col, row, use_weighted_vote=False))\n",
    "#         if val == row[target_col]:\n",
    "#             correct += 1\n",
    "#     acc = correct/len(df_test)\n",
    "#     print(acc)\n",
    "#     acc_k_weighted[k] = acc\n",
    "# Your code here"
   ]
  },
  {
   "cell_type": "code",
   "execution_count": 18,
   "metadata": {},
   "outputs": [
    {
     "ename": "NameError",
     "evalue": "name 'acc_k' is not defined",
     "output_type": "error",
     "traceback": [
      "\u001b[0;31m---------------------------------------------------------------------------\u001b[0m",
      "\u001b[0;31mNameError\u001b[0m                                 Traceback (most recent call last)",
      "\u001b[0;32m<ipython-input-18-5b28d836bfcf>\u001b[0m in \u001b[0;36m<module>\u001b[0;34m\u001b[0m\n\u001b[1;32m      1\u001b[0m \u001b[0;31m# plot code here\u001b[0m\u001b[0;34m\u001b[0m\u001b[0;34m\u001b[0m\u001b[0;34m\u001b[0m\u001b[0m\n\u001b[0;32m----> 2\u001b[0;31m \u001b[0mplt\u001b[0m\u001b[0;34m.\u001b[0m\u001b[0mplot\u001b[0m\u001b[0;34m(\u001b[0m\u001b[0;34m[\u001b[0m\u001b[0;34m\"1\"\u001b[0m\u001b[0;34m,\u001b[0m\u001b[0;34m\"3\"\u001b[0m\u001b[0;34m,\u001b[0m\u001b[0;34m\"13\"\u001b[0m\u001b[0;34m,\u001b[0m\u001b[0;34m\"25\"\u001b[0m\u001b[0;34m,\u001b[0m\u001b[0;34m\"50\"\u001b[0m\u001b[0;34m,\u001b[0m\u001b[0;34m\"100\"\u001b[0m\u001b[0;34m]\u001b[0m\u001b[0;34m,\u001b[0m \u001b[0macc_k\u001b[0m\u001b[0;34m)\u001b[0m\u001b[0;34m\u001b[0m\u001b[0;34m\u001b[0m\u001b[0m\n\u001b[0m\u001b[1;32m      3\u001b[0m \u001b[0mplt\u001b[0m\u001b[0;34m.\u001b[0m\u001b[0mylabel\u001b[0m\u001b[0;34m(\u001b[0m\u001b[0;34m\"Accuracy\"\u001b[0m\u001b[0;34m)\u001b[0m\u001b[0;34m\u001b[0m\u001b[0;34m\u001b[0m\u001b[0m\n\u001b[1;32m      4\u001b[0m \u001b[0mplt\u001b[0m\u001b[0;34m.\u001b[0m\u001b[0mxlabel\u001b[0m\u001b[0;34m(\u001b[0m\u001b[0;34m\"# of nearest neighbors (k)\"\u001b[0m\u001b[0;34m)\u001b[0m\u001b[0;34m\u001b[0m\u001b[0;34m\u001b[0m\u001b[0m\n\u001b[1;32m      5\u001b[0m \u001b[0mplt\u001b[0m\u001b[0;34m.\u001b[0m\u001b[0mtitle\u001b[0m\u001b[0;34m(\u001b[0m\u001b[0;34m\"K nearestt neigbors vs Accuracy\"\u001b[0m\u001b[0;34m)\u001b[0m\u001b[0;34m\u001b[0m\u001b[0;34m\u001b[0m\u001b[0m\n",
      "\u001b[0;31mNameError\u001b[0m: name 'acc_k' is not defined"
     ]
    }
   ],
   "source": [
    "# plot code here\n",
    "plt.plot([\"1\",\"3\",\"13\",\"25\",\"50\",\"100\"], acc_k)\n",
    "plt.ylabel(\"Accuracy\")\n",
    "plt.xlabel(\"# of nearest neighbors (k)\")\n",
    "plt.title(\"K nearestt neigbors vs Accuracy\")\n",
    "plt.show()"
   ]
  },
  {
   "cell_type": "markdown",
   "metadata": {},
   "source": [
    "➡️ Answer containing your analysis of the I would choose $k = <value> $ and voting scheme because _reasons_ here ⬅️"
   ]
  }
 ],
 "metadata": {
  "kernelspec": {
   "display_name": "Python 3",
   "language": "python",
   "name": "python3"
  },
  "language_info": {
   "codemirror_mode": {
    "name": "ipython",
    "version": 3
   },
   "file_extension": ".py",
   "mimetype": "text/x-python",
   "name": "python",
   "nbconvert_exporter": "python",
   "pygments_lexer": "ipython3",
   "version": "3.8.5"
  }
 },
 "nbformat": 4,
 "nbformat_minor": 4
}
